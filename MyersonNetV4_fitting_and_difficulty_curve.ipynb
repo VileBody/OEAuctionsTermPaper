{
  "nbformat": 4,
  "nbformat_minor": 0,
  "metadata": {
    "colab": {
      "name": "MyersonNetV4_fitting_and_difficulty_curve.ipynb",
      "provenance": [],
      "collapsed_sections": []
    },
    "kernelspec": {
      "name": "python3",
      "display_name": "Python 3"
    },
    "language_info": {
      "name": "python"
    }
  },
  "cells": [
    {
      "cell_type": "markdown",
      "source": [
        "# Model defining and fitting"
      ],
      "metadata": {
        "id": "wtSqpsIy_KAM"
      }
    },
    {
      "cell_type": "code",
      "execution_count": null,
      "metadata": {
        "id": "__nAU1-5cPQb"
      },
      "outputs": [],
      "source": [
        "import torch\n",
        "from torch import nn, optim\n",
        "import numpy as np\n",
        "from scipy import stats as ss\n",
        "from matplotlib import pyplot as plt\n",
        "from IPython.display import clear_output"
      ]
    },
    {
      "cell_type": "code",
      "source": [
        "from random import random\n",
        "class Generator:\n",
        "  def __init__(self, n_bidders, batch_size, dist, params={}):\n",
        "    self.n_bidders = n_bidders\n",
        "    self.batch_size = batch_size\n",
        "    self.dist = dist\n",
        "    self.params = params \n",
        "\n",
        "  def generate(self, seed=np.random.randint(1, 15000)):\n",
        "    if self.dist == 'irregular':\n",
        "      probs, params, dist_name = self.params['probs'], self.params['params'], self.params['dist_name']\n",
        "      gen = lambda x: dist_name.rvs(**x)\n",
        "      gen = np.vectorize(gen)\n",
        "      dist_matrix = np.random.choice(params, size=(self.batch_size, self.n_bidders), p=probs)\n",
        "      sample_val = np.array(list(map(gen, dist_matrix)))\n",
        "      return torch.tensor(sample_val, dtype=torch.float)\n",
        "\n",
        "    return torch.tensor(\n",
        "        self.dist.rvs(size=(self.batch_size, self.n_bidders), random_state=seed, **self.params), dtype=torch.float\n",
        "    )"
      ],
      "metadata": {
        "id": "lDNahNyoccmP"
      },
      "execution_count": null,
      "outputs": []
    },
    {
      "cell_type": "code",
      "source": [
        "class MyersonNetV4(nn.Module):\n",
        "    def __init__(self, n_bidders, J_functions=10, K_groups=10, B=1.0, softmax_temperature=1.0):\n",
        "      super(MyersonNetV4, self).__init__()\n",
        "      self.J, self.K, self.B, self.kappa, self.n_bidders = J_functions, K_groups, B, softmax_temperature, n_bidders\n",
        "      self.device = 'cuda' if torch.cuda.is_available() else 'cpu'\n",
        "      self.w_transformation = nn.Sequential(\n",
        "          nn.Linear(self.n_bidders, self.J * self.K),\n",
        "          nn.ReLU(),\n",
        "          nn.Linear(self.J * self.K, self.J * self.K),\n",
        "          nn.ReLU(),\n",
        "          nn.Linear(self.J * self.K, self.J * self.K),\n",
        "      )\n",
        "      self.b_transformation = nn.Sequential(\n",
        "          nn.Linear(self.n_bidders, self.J * self.K),\n",
        "          nn.ReLU(),\n",
        "          nn.Linear(self.J * self.K, self.J * self.K),\n",
        "          nn.ReLU(),\n",
        "          nn.Linear(self.J * self.K, self.J * self.K),\n",
        "      )\n",
        "\n",
        "      self.mask = torch.ones([self.n_bidders, 1, self.n_bidders]).to(self.device)\n",
        "      self.mask[np.arange(self.n_bidders), :, np.arange(self.n_bidders)] = 0.\n",
        "\n",
        "      \n",
        "    def transform_weights(self, data):\n",
        "      w = self.w_transformation(data).view(self.J, self.K, -1, 1)\n",
        "      bias = self.b_transformation(data).view(self.J, self.K, -1, 1)\n",
        "      return (w, bias)\n",
        "    \n",
        "    def get_virtual_valuation(self, data, weights):\n",
        "      weights, bias = weights\n",
        "      return torch.min(\n",
        "          torch.max(torch.exp(weights) * data + bias, axis=0).values,\n",
        "          axis=0\n",
        "      ).values\n",
        "\n",
        "    def get_inverse_virtual_valuation(self, phi, weights):\n",
        "      weights, bias = weights\n",
        "      return torch.max(\n",
        "          torch.min(torch.exp(-weights) * (phi - bias), axis=0).values,\n",
        "          axis=0\n",
        "      ).values\n",
        "\n",
        "    def get_allocation(self, array, task):\n",
        "        mask = torch.ones(array.shape[1]+1).to(self.device)\n",
        "        mask[-1] = 0.\n",
        "        mask = torch.diag(mask)[:-1, :]\n",
        "        if task == 'train':\n",
        "          return torch.nn.functional.softmax(array @ (self.kappa * mask), dim=-1)[:, :-1]\n",
        "        elif task == 'eval':\n",
        "          return torch.nn.functional.softmax(array @ (1e25 * mask), dim=-1)[:, :-1]\n",
        "        else:\n",
        "          raise ValueError('Wrong task, choose among \"train\", \"eval\".')\n",
        "        \n",
        "\n",
        "    def get_payment(self, phi, weights):\n",
        "      second_price = torch.max(self.mask * phi, axis=-1).values.swapaxes(0, 1)\n",
        "      payment = self.get_inverse_virtual_valuation(second_price, weights)\n",
        "      return payment\n",
        "\n",
        "    def forward(self, data, task='train'):\n",
        "      weights = self.transform_weights(data)\n",
        "      phi = self.get_virtual_valuation(data, weights)\n",
        "      allocation = self.get_allocation(phi, task) \n",
        "      payment = self.get_payment(phi, weights)\n",
        "      return - torch.mean(\n",
        "          torch.sum(allocation * payment, axis=1)\n",
        "      ), (payment, allocation, data, phi)"
      ],
      "metadata": {
        "id": "WqNlhKN-R2qo"
      },
      "execution_count": null,
      "outputs": []
    },
    {
      "cell_type": "code",
      "source": [
        "device = 'cuda' if torch.cuda.is_available() else 'cpu'\n",
        "n_bidders, J_functions, K_groups, B, softmax_temperature, batch_size = 3, 15, 33, 8, 1e2, 128\n",
        "                                                                          \n",
        "model = MyersonNetV4(n_bidders, J_functions, K_groups, B, softmax_temperature).to(device)\n",
        "optimizer = optim.Adam(model.parameters(), lr=1e-5, )\n",
        "revenue = [0]\n",
        "utilities = [0]"
      ],
      "metadata": {
        "id": "Mm9KMr-TfT7N"
      },
      "execution_count": null,
      "outputs": []
    },
    {
      "cell_type": "code",
      "source": [
        "torch.autograd.set_detect_anomaly(True)\n",
        "%mkdir models_at_iter\n",
        "for i in range(0, 7000):\n",
        "    batch = torch.cat([generator.generate() for generator in generators])[torch.randperm(1280)].to(device)\n",
        "    optimizer.zero_grad()\n",
        "    neg_revenue, (payment, allocation, data, phi) = model(batch)\n",
        "    neg_utility = -(allocation * (data  - payment)).sum(axis=-1).mean()\n",
        "    try:\n",
        "      neg_revenue.backward()\n",
        "      optimizer.step()\n",
        "    except:\n",
        "      continue\n",
        "    revenue.append(- neg_revenue.to('cpu').detach().numpy().item()/batch.mean().item())\n",
        "    utilities.append(- neg_utility.to('cpu').detach().numpy().item()/batch.mean().item())\n",
        "    if i%50 == 0:\n",
        "      print(i, 'revenue = ', revenue[-1])\n",
        "      print(i, 'utility=', utilities[-1])\n",
        "      torch.save(model.state_dict(), '/content/models_at_iter/model_at_iter_{}_15_33.pickle'.format(i))"
      ],
      "metadata": {
        "id": "AQqRwnaGfgHl"
      },
      "execution_count": null,
      "outputs": []
    },
    {
      "cell_type": "markdown",
      "source": [
        "### Plot results"
      ],
      "metadata": {
        "id": "Ku0FFCtl_X5a"
      }
    },
    {
      "cell_type": "code",
      "source": [
        "import pandas as pd\n",
        "fig = plt.figure(figsize=(15, 5))\n",
        "plt.plot(np.arange(len(revenue[1:]))* 2, revenue[1:], label='revenue')\n",
        "plt.plot(np.arange(len(revenue[1:]))* 2, utilitys[1:], label='utility')\n",
        "plt.title('Process of convergence')\n",
        "plt.xlabel('Iteration')\n",
        "plt.ylabel('Welfare/Revenue')\n",
        "plt.legend()"
      ],
      "metadata": {
        "id": "RCLlbdrUiQ5R"
      },
      "execution_count": null,
      "outputs": []
    },
    {
      "cell_type": "markdown",
      "source": [
        "### Difficulty plot"
      ],
      "metadata": {
        "id": "nLsKBrYt_bng"
      }
    },
    {
      "cell_type": "code",
      "source": [
        "eval_dataset = [[generator.generate().to(device) for generator in generators] for i in range(100)]"
      ],
      "metadata": {
        "id": "oeNWyE4Gfsqk"
      },
      "execution_count": null,
      "outputs": []
    },
    {
      "cell_type": "code",
      "source": [
        "revenue_achieved = [[-model(item, 'eval')[0].item()/item.mean().item() for item in x ] for x in eval_dataset]"
      ],
      "metadata": {
        "id": "FvVKBoQ_qGu2"
      },
      "execution_count": null,
      "outputs": []
    },
    {
      "cell_type": "code",
      "source": [
        "curve = pd.melt(pd.DataFrame(revenue_achieved, columns = 3 + np.linspace(0, 30, 10))).rename(columns={'variable':'right_border', 'value':'complexity of an auction'})"
      ],
      "metadata": {
        "id": "jiz8y13YqQt2"
      },
      "execution_count": null,
      "outputs": []
    },
    {
      "cell_type": "code",
      "source": [
        "import seaborn as sns\n",
        "sns.set_theme(color_codes=True)\n",
        "fig, ax = plt.subplots(figsize=(20, 10))\n",
        "sns.lineplot(data=curve, x='right_border', y='complexity of an auction', ax=ax)\n",
        "plt.title('Complexity of an optimapl auction versus distribution range')\n",
        "plt.show()"
      ],
      "metadata": {
        "id": "X-k7xcJ4qo4T"
      },
      "execution_count": null,
      "outputs": []
    }
  ]
}